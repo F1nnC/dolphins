{
 "cells": [
  {
   "cell_type": "markdown",
   "metadata": {},
   "source": [
    "# Conditionals\n",
    "##### Subtitle here\n",
    "\n",
    "- title: Conditionals\n",
    "- toc: true\n",
    "- categories: [tri2lesson]\n",
    "- permalink: /conditionals\n",
    "- tags: [tri2lesson]"
   ]
  },
  {
   "cell_type": "markdown",
   "metadata": {},
   "source": [
    "### Learning Objectives (Some Things You Might Want to Keep Note Of)\n",
    "\n",
    "- Conditionals allow for the expression of algorithms that utilize selection without a programming language.\n",
    "- Writing conditional statements is key to computer science."
   ]
  },
  {
   "cell_type": "markdown",
   "metadata": {},
   "source": [
    "### Key Terms\n",
    "- Selection: The specific block of code that will execute depending on the algorithm condition returning true or false.\n",
    "- Algorithm: \"A finite set of instructions that accomplish a specific task.\"\n",
    "- Conditional Statement / If-Statement: A statement that affects the sequence of control by executing certain statements depending on the value of a boolean."
   ]
  },
  {
   "cell_type": "markdown",
   "metadata": {},
   "source": [
    "Below is an example of an algorithm in JavaScript that uses selection:"
   ]
  },
  {
   "cell_type": "code",
   "execution_count": 1,
   "metadata": {},
   "outputs": [
    {
     "name": "stdout",
     "output_type": "stream",
     "text": [
      "The number is even.\n"
     ]
    }
   ],
   "source": [
    "function isEven(parameter) {\n",
    "    if (parameter % 2 == 0) {\n",
    "        console.log(\"The number is even.\");\n",
    "    }\n",
    "    else if (parameter % 2 != 0) {\n",
    "        console.log(\"The number is odd.\")\n",
    "    }\n",
    "}\n",
    "\n",
    "isEven(4)"
   ]
  },
  {
   "cell_type": "markdown",
   "metadata": {},
   "source": [
    "A computer science student such as yourself will see conditional statements in JavaScript a lot. Below is an example of one in action:"
   ]
  },
  {
   "cell_type": "code",
   "execution_count": 4,
   "metadata": {},
   "outputs": [],
   "source": [
    "if (30 == 7) {\n",
    "    console.log(\"The condition is true\")\n",
    "}"
   ]
  },
  {
   "cell_type": "markdown",
   "metadata": {},
   "source": [
    "That is one conditional statement, but this algorithm is too simple to have anything done with it. Below is an algorithm building on the previous algorithm:"
   ]
  },
  {
   "cell_type": "code",
   "execution_count": 5,
   "metadata": {},
   "outputs": [
    {
     "name": "stdout",
     "output_type": "stream",
     "text": [
      "The condition is false\n"
     ]
    }
   ],
   "source": [
    "if (30 == 7) {\n",
    "    console.log(\"The condition is true\")\n",
    "}\n",
    "else if (30 != 7) {\n",
    "    console.log(\"The condition is false\")\n",
    "}"
   ]
  },
  {
   "cell_type": "markdown",
   "metadata": {},
   "source": [
    "Conditional statements can be used for many a purpose. The algorithm above was quite simple, but conditionals can be found in more complex algorithms."
   ]
  },
  {
   "cell_type": "markdown",
   "metadata": {},
   "source": [
    "## Learning Objectives\n",
    " \n",
    " - Determine the result of conditional statements"
   ]
  },
  {
   "cell_type": "markdown",
   "metadata": {},
   "source": [
    "## Essential Knowledge\n",
    "Conditional statements (\"if\" statements) affect the sequential flow of control by executing different statements based on the value of a Boolean expression.\n",
    "The exam reference sheet provides:\n",
    "\n",
    "In which the code in block of statements is executed if the Boolean expression condition evaluates to true; no action is taken if condition evaluates to false\n",
    "\n",
    "## What is displayed after this code segment?\n",
    "\n",
    "\n"
   ]
  },
  {
   "cell_type": "markdown",
   "metadata": {},
   "source": [
    "### Hacks\n",
    "\n",
    "- For the first hack, pretend you are a school's test grader. Create an array with integers, each integer representing one score from a student's taken tests. If the average of the student's test scores are at least 75 percent, then display that the student is elligible for credit, and if not, display that the student must retake the tests over break. \n",
    "- The second hack is more number-oriented. Create an algorithm that calculates the sum of two numbers, then determines whether the sum is greater than or less than 100.\n",
    "- The hacks above was heavily derived from CollegeBoard. As a computer science student, you should be able to create an algorithm utilizing conditionals. Try something number-oriented if you get stuck. Creativity gets points."
   ]
  }
 ],
 "metadata": {
  "kernelspec": {
   "display_name": "JavaScript (Node.js)",
   "language": "javascript",
   "name": "javascript"
  },
  "language_info": {
   "file_extension": ".js",
   "mimetype": "application/javascript",
   "name": "javascript",
   "version": "6.11.2"
  },
  "orig_nbformat": 4
 },
 "nbformat": 4,
 "nbformat_minor": 2
}
