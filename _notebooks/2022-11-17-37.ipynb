{
 "cells": [
  {
   "cell_type": "markdown",
   "metadata": {},
   "source": [
    "---\n",
    "title: 3.7\n",
    "toc : true\n",
    "categories: [tri2lesson]\n",
    "description: A hub/guide for 3.7\n",
    "permalink: /lesson3:7\n",
    "---\n",
    "# Nested Conditionals\n",
    "- Nested conditional statements consist of conditional statements within conditional statements\n",
    "- they're nested one inside the other\n",
    "- An else if inside of another else if\n",
    "- Can be used for a varying amount of \"else if statements.\" The first if statement can represent if two coditions are true. The first else if can represent if only one or the other is true. The last else if represents if neither of the conditions are true.\n",
    "- Can have three different conditions\n",
    "\n",
    "## Take aways\n",
    "- Learn how to determine the result of nested condtional statements\n",
    "- Nested conditional statements consist of conditional statements within conditional statements\n",
    "![Flowchart.png](../images/Flowchart.png)\n",
    "- One condition leads to check in a second condition\n",
    "\n",
    "## Writing Nested Conditional Statements\n",
    "- Can be planned and writen out first\n",
    "- Flow chart is a possibility. Ask a question. If the statement is false end the flowchart with one result. If it is true then repeat the process once more. If IF (condition 1)\n",
    "{\n",
    "    <first block of statments>\n",
    "}\n",
    "ELSE\n",
    "{\n",
    "    IF (condition 2)\n",
    "    {\n",
    "    <second block of statements>\n",
    "    }\n",
    "}this statement is false make a new result. Finally if the statement is true make a final result\n",
    "\n"
   ]
  },
  {
   "cell_type": "markdown",
   "metadata": {},
   "source": [
    "## Question 1\n",
    "Look at the following code\n",
    "- what happens when x is 5 and y becomes 4? Is the output same or change?"
   ]
  },
  {
   "cell_type": "code",
   "execution_count": 40,
   "metadata": {},
   "outputs": [
    {
     "name": "stdout",
     "output_type": "stream",
     "text": [
      "x is smaller than y\n"
     ]
    }
   ],
   "source": [
    "x = 2\n",
    "y = 3\n",
    "if x == y:\n",
    "    print(\"x and y are equal\")\n",
    "else:\n",
    "    if x > y:\n",
    "        print(\"x is bigger than y\")\n",
    "    elif x < y:\n",
    "        print(\"x is smaller than y\")"
   ]
  },
  {
   "cell_type": "markdown",
   "metadata": {},
   "source": [
    "## Question 2 "
   ]
  },
  {
   "cell_type": "code",
   "execution_count": null,
   "metadata": {},
   "outputs": [],
   "source": [
    "height = int(input(\"Welcom to the rollercoaster! \\nWhat is your height in cm? \"))\n",
    "age = int(input(\"What is your age?\"))\n",
    "if height < 120 :\n",
    "   print(\"Can't ride\")\n",
    "elif age < 12 :\n",
    "  photo = input(\"Adult tickets are $5 \\nDo you want a photo taken? Y or N. \")\n",
    "  if photo==\"Y\":\n",
    "    print(\"The total bill is $8.\")\n",
    "  if photo==\"N\":\n",
    "    print(\"The total bill is $5.\")\n",
    "elif age < 18:\n",
    "   photo = input(\"Adult tickets are $7 \\nDo you want a photo taken? Y or N. \")\n",
    "   if photo==\"Y\":\n",
    "    print(\"The total bill is $10.\")\n",
    "   if photo==\"N\":\n",
    "    print(\"The total bill is $7.\")\n",
    "else :\n",
    "   photo = input(\"Adult tickets are $12 \\nDo you want a photo taken? Y or N. \")\n",
    "   if photo==\"Y\":\n",
    "    print(\"The total bill is $15.\")\n",
    "   if photo==\"N\":\n",
    "    print(\"The total bill is $12.\")"
   ]
  },
  {
   "cell_type": "markdown",
   "metadata": {},
   "source": [
    "![]({{site.baseurl}}/images/question2.png)"
   ]
  },
  {
   "cell_type": "markdown",
   "metadata": {},
   "source": [
    "## Let's look at Examples"
   ]
  },
  {
   "cell_type": "code",
   "execution_count": 52,
   "metadata": {},
   "outputs": [
    {
     "name": "stdout",
     "output_type": "stream",
     "text": [
      "paper\n",
      "rock\n",
      "You win\n",
      "rock\n",
      "scissor\n",
      "You win\n",
      "rock\n",
      "scissor\n",
      "You win\n",
      "Goodbye\n"
     ]
    }
   ],
   "source": [
    "import random\n",
    "global i\n",
    "game = [\"rock\", \"scissor\", \"paper\"]\n",
    "winning = [\"paper\", \"rock\", \"scissor\"]\n",
    "i = 0\n",
    "def gameStart():\n",
    "    randomNumber = random.randrange(0,2)\n",
    "    randomOne = game[randomNumber]\n",
    "    gamer = str(input(\"what will you do\"))\n",
    "    print(gamer)\n",
    "    print(randomOne)\n",
    "    while True:\n",
    "        if winning[i] == gamer:\n",
    "            break\n",
    "        else:\n",
    "            i += 1\n",
    "    if randomNumber == i:\n",
    "        print(\"You win\")\n",
    "    else:\n",
    "        if randomNumber == (i+1)%3:\n",
    "            print(\"Lose\")\n",
    "        elif randomNumber == (i+2)%3:\n",
    "            print(\"Draw\")\n",
    "    pre = input(\"Do you want a game?[yes/no]\")\n",
    "    if pre == \"yes\":\n",
    "        gameStart()\n",
    "        randomNumber = random.randrange(0,2)\n",
    "    else:\n",
    "        print(\"Goodbye\")\n",
    "gameStart()"
   ]
  },
  {
   "cell_type": "markdown",
   "metadata": {},
   "source": [
    "## Hacks\n",
    "- Create 3 differnt flow charts representing nested statements and transfer them into code.\n",
    "- Create a piece of code that displays four statements instead of three. Try to do more if you can.\n",
    "- Make piece of code that gives three different recommandations for possible classes to take at a scholl based on two different condtions. These conditions could be if the student likes STEM or not."
   ]
  }
 ],
 "metadata": {
  "kernelspec": {
   "display_name": "Python 3.9.12 ('base')",
   "language": "python",
   "name": "python3"
  },
  "language_info": {
   "codemirror_mode": {
    "name": "ipython",
    "version": 3
   },
   "file_extension": ".py",
   "mimetype": "text/x-python",
   "name": "python",
   "nbconvert_exporter": "python",
   "pygments_lexer": "ipython3",
   "version": "3.9.12"
  },
  "orig_nbformat": 4,
  "vscode": {
   "interpreter": {
    "hash": "c7f0eff47e976ffd278432ca58e86309fa0a3c18b8fa2d8345190506f8a63e10"
   }
  }
 },
 "nbformat": 4,
 "nbformat_minor": 2
}
