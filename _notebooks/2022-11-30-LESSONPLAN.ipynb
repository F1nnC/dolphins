{
 "cells": [
  {
   "cell_type": "markdown",
   "metadata": {},
   "source": [
    "# LESSON PLAN\n",
    "##### the lesson plan for 3.5-3.7\n",
    "\n",
    "- title: LESSON PLAN\n",
    "- toc: true\n",
    "- categories: [tri2lesson]\n",
    "- permalink: /lesson\n",
    "- tags: [tri2lesson]"
   ]
  },
  {
   "cell_type": "markdown",
   "metadata": {},
   "source": [
    "# Lesson 3.5 Finn/Jake"
   ]
  },
  {
   "cell_type": "markdown",
   "metadata": {},
   "source": [
    "## What is a Boolean\n",
    "- The defention of a Boolean is a denoting a system of algebraic notation used to represent logical propositions, especially in computing and electronics.\n",
    "- A boolean expersions are either true or false\n",
    "- What do we use to represent them (Hint think of how domain/range of graph is answered)\n",
    "\n",
    "## Lets go over some examples\n",
    "# Type Down Below Theese two example\n",
    "- You have to be the age of 16 or older to drive\n",
    "- Each rollercoaster cart holds 4 for people per cart\n"
   ]
  },
  {
   "cell_type": "code",
   "execution_count": null,
   "metadata": {},
   "outputs": [],
   "source": [
    "# The code for ex:1\n",
    "\n",
    "# The code for ex:2\n",
    "\n",
    "# Print the results"
   ]
  },
  {
   "cell_type": "markdown",
   "metadata": {},
   "source": [
    "# Logical Operators\n",
    "## NOT\n",
    "- NOT, it displays the opposite of whatever the data is. Mainly used for true/false, and does not effect the variable.\n"
   ]
  },
  {
   "cell_type": "code",
   "execution_count": null,
   "metadata": {},
   "outputs": [],
   "source": [
    "isRaining = False\n",
    "result = not(isRaining)\n",
    "print(result)"
   ]
  },
  {
   "cell_type": "markdown",
   "metadata": {},
   "source": [
    "## AND\n",
    "- AND, used to evaulte two conditions together and determine if both condintions are met"
   ]
  },
  {
   "cell_type": "code",
   "execution_count": null,
   "metadata": {},
   "outputs": [],
   "source": [
    "grade = 95\n",
    "if grade > 70 and grade <= 100:\n",
    "    print(\"You passed the quiz\")"
   ]
  },
  {
   "cell_type": "markdown",
   "metadata": {},
   "source": [
    "## OR\n",
    "- OR, when using or the function only looks to see if one of the conditions is met then will"
   ]
  },
  {
   "cell_type": "code",
   "execution_count": null,
   "metadata": {},
   "outputs": [],
   "source": [
    "lives = 1\n",
    "score = 21\n",
    "if lives >= 0 or score > 20:\n",
    "    print(\"end game\")"
   ]
  },
  {
   "cell_type": "markdown",
   "metadata": {},
   "source": [
    "# Hacks\n",
    "- Explain in your own words what each logical operator does\n",
    "- Code your own scenario that makes sense for each logical operator"
   ]
  },
  {
   "cell_type": "markdown",
   "metadata": {},
   "source": [
    "# Lesson 3.6 Conditionals James\n"
   ]
  },
  {
   "cell_type": "markdown",
   "metadata": {},
   "source": [
    "### Learning Objectives (Some Things You Might Want to Keep Note Of)\n",
    "\n",
    "- Conditionals allow for the expression of algorithms that utilize selection without a programming language.\n",
    "- Writing conditional statements is key to computer science.\n",
    "- Determine the result of conditional statements"
   ]
  },
  {
   "cell_type": "markdown",
   "metadata": {},
   "source": [
    "### Key Terms\n",
    "- Selection: The specific block of code that will execute depending on the algorithm condition returning true or false.\n",
    "- Algorithm: \"A finite set of instructions that accomplish a specific task.\"\n",
    "- Conditional Statement / If-Statement: A statement that affects the sequence of control by executing certain statements depending on the value of a boolean."
   ]
  },
  {
   "cell_type": "code",
   "execution_count": null,
   "metadata": {
    "vscode": {
     "languageId": "javascript"
    }
   },
   "outputs": [],
   "source": [
    "function isEven(parameter) {\n",
    "    if (parameter % 2 == 0) {\n",
    "        console.log(\"The number is even.\");\n",
    "    }\n",
    "    else if (parameter % 2 != 0) {\n",
    "        console.log(\"The number is odd.\")\n",
    "    }\n",
    "}\n",
    "\n",
    "isEven(4)"
   ]
  },
  {
   "cell_type": "markdown",
   "metadata": {},
   "source": [
    "A computer science student such as yourself will see conditional statements in JavaScript a lot. Below is an example of one in action:"
   ]
  },
  {
   "cell_type": "code",
   "execution_count": null,
   "metadata": {
    "vscode": {
     "languageId": "javascript"
    }
   },
   "outputs": [],
   "source": [
    "if (30 == 7) {\n",
    "    console.log(\"The condition is true\")\n",
    "}"
   ]
  },
  {
   "cell_type": "markdown",
   "metadata": {},
   "source": [
    "That is one conditional statement, but this algorithm is too simple to have anything done with it. Below is an algorithm building on the previous algorithm:"
   ]
  },
  {
   "cell_type": "code",
   "execution_count": null,
   "metadata": {
    "vscode": {
     "languageId": "javascript"
    }
   },
   "outputs": [],
   "source": [
    "if (30 == 7) {\n",
    "    console.log(\"The condition is true\")\n",
    "}\n",
    "else if (30 != 7) {\n",
    "    console.log(\"The condition is false\")\n",
    "}"
   ]
  },
  {
   "cell_type": "markdown",
   "metadata": {},
   "source": [
    "Conditional statements can be used for many a purpose. The algorithm above was quite simple, but conditionals can be found in more complex algorithms."
   ]
  },
  {
   "cell_type": "markdown",
   "metadata": {},
   "source": [
    "## Essential Knowledge\n",
    "Conditional statements (\"if\" statements) affect the sequential flow of control by executing different statements based on the value of a Boolean expression.\n",
    "The exam reference sheet provides:\n",
    "\n",
    "In which the code in block of statements is executed if the Boolean expression condition evaluates to true; no action is taken if condition evaluates to false"
   ]
  },
  {
   "cell_type": "markdown",
   "metadata": {},
   "source": [
    "### Hacks\n",
    "\n",
    "- For the first hack, pretend you are a school's test grader. Create an array with integers, each integer representing one score from a student's taken tests. If the average of the student's test scores are at least 75 percent, then display that the student is elligible for credit, and if not, display that the student must retake the tests over break. \n",
    "- The second hack is more number-oriented. Create an algorithm that calculates the sum of two numbers, then determines whether the sum is greater than or less than 100.\n",
    "- The hacks above was heavily derived from CollegeBoard. As a computer science student, you should be able to create an algorithm utilizing conditionals. Try something number-oriented if you get stuck. Creativity gets points."
   ]
  },
  {
   "cell_type": "markdown",
   "metadata": {},
   "source": [
    "# Lesson 3.7 Paaras/Shruthi"
   ]
  },
  {
   "cell_type": "markdown",
   "metadata": {},
   "source": [
    "# Nested Conditionals\n",
    "- Nested conditional statements consist of conditional statements within conditional statements\n",
    "- they're nested one inside the other\n",
    "- An else if inside of another else if\n",
    "- Can be used for a varying amount of \"else if statements.\" The first if statement can represent if two coditions are true. The first else if can represent if only one or the other is true. The last else if represents if neither of the conditions are true.\n",
    "- Can have three different conditions\n",
    "\n",
    "## Take aways\n",
    "- Learn how to determine the result of nested condtional statements\n",
    "- Nested conditional statements consist of conditional statements within conditional statements\n",
    "![Flowchart.png](../images/Flowchart.png)\n",
    "- One condition leads to check in a second condition\n",
    "\n",
    "## Writing Nested Conditional Statements\n",
    "- Can be planned and writen out first\n",
    "- Flow chart is a possibility. Ask a question. If the statement is false end the flowchart with one result. If it is true then repeat the process once more. If IF (condition 1)\n",
    "{\n",
    "    <first block of statments>\n",
    "}\n",
    "ELSE\n",
    "{\n",
    "    IF (condition 2)\n",
    "    {\n",
    "    <second block of statements>\n",
    "    }\n",
    "}this statement is false make a new result. Finally if the statement is true make a final result\n"
   ]
  },
  {
   "cell_type": "markdown",
   "metadata": {},
   "source": [
    "## Question 1\n",
    "Look at the following code\n",
    "- what happens when x is 5 and y becomes 4? Is the output same or change?"
   ]
  },
  {
   "cell_type": "code",
   "execution_count": null,
   "metadata": {},
   "outputs": [],
   "source": [
    "x = 2\n",
    "y = 3\n",
    "if x == y:\n",
    "    print(\"x and y are equal\")\n",
    "else:\n",
    "    if x > y:\n",
    "        print(\"x is bigger than y\")\n",
    "    elif x < y:\n",
    "        print(\"x is smaller than y\")"
   ]
  },
  {
   "cell_type": "markdown",
   "metadata": {},
   "source": [
    "# Question 2"
   ]
  },
  {
   "cell_type": "code",
   "execution_count": null,
   "metadata": {},
   "outputs": [],
   "source": [
    "height = int(input(\"Welcom to the rollercoaster! \\nWhat is your height in cm? \"))\n",
    "age = int(input(\"What is your age?\"))\n",
    "if height < 120 :\n",
    "   print(\"Can't ride\")\n",
    "elif age < 12 :\n",
    "  photo = input(\"Adult tickets are $5 \\nDo you want a photo taken? Y or N. \")\n",
    "  if photo==\"Y\":\n",
    "    print(\"The total bill is $8.\")\n",
    "  if photo==\"N\":\n",
    "    print(\"The total bill is $5.\")\n",
    "elif age < 18:\n",
    "   photo = input(\"Adult tickets are $7 \\nDo you want a photo taken? Y or N. \")\n",
    "   if photo==\"Y\":\n",
    "    print(\"The total bill is $10.\")\n",
    "   if photo==\"N\":\n",
    "    print(\"The total bill is $7.\")\n",
    "else :\n",
    "   photo = input(\"Adult tickets are $12 \\nDo you want a photo taken? Y or N. \")\n",
    "   if photo==\"Y\":\n",
    "    print(\"The total bill is $15.\")\n",
    "   if photo==\"N\":\n",
    "    print(\"The total bill is $12.\")"
   ]
  },
  {
   "cell_type": "markdown",
   "metadata": {},
   "source": [
    "## Let's look at Examples"
   ]
  },
  {
   "cell_type": "code",
   "execution_count": null,
   "metadata": {},
   "outputs": [],
   "source": [
    "import random\n",
    "global i\n",
    "game = [\"rock\", \"scissor\", \"paper\"]\n",
    "winning = [\"paper\", \"rock\", \"scissor\"]\n",
    "i = 0\n",
    "def gameStart():\n",
    "    randomNumber = random.randrange(0,2)\n",
    "    randomOne = game[randomNumber]\n",
    "    gamer = str(input(\"what will you do\"))\n",
    "    print(gamer)\n",
    "    print(randomOne)\n",
    "    while True:\n",
    "        if winning[i] == gamer:\n",
    "            break\n",
    "        else:\n",
    "            i += 1\n",
    "    if randomNumber == i:\n",
    "        print(\"You win\")\n",
    "    else:\n",
    "        if randomNumber == (i+1)%3:\n",
    "            print(\"Lose\")\n",
    "        elif randomNumber == (i+2)%3:\n",
    "            print(\"Draw\")\n",
    "    pre = input(\"Do you want a game?[yes/no]\")\n",
    "    if pre == \"yes\":\n",
    "        gameStart()\n",
    "        randomNumber = random.randrange(0,2)\n",
    "    else:\n",
    "        print(\"Goodbye\")\n",
    "gameStart()"
   ]
  },
  {
   "cell_type": "markdown",
   "metadata": {},
   "source": [
    "## Hacks\n",
    "- Create 3 differnt flow charts representing nested statements and transfer them into code.\n",
    "- Create a piece of code that displays four statements instead of three. Try to do more if you can.\n",
    "- Make piece of code that gives three different recommandations for possible classes to take at a scholl based on two different condtions. These conditions could be if the student likes STEM or not."
   ]
  },
  {
   "cell_type": "markdown",
   "metadata": {},
   "source": [
    "# Rubric for hacks:\n",
    "- Each section is worth .33 and you will get + 0.01 if all are completed to have full points.\n",
    "\n",
    "### How to get a .33\n",
    "- All hacks are done for the section, fully completed.\n",
    "\n",
    "### How to get a .30\n",
    "- Not all hacks are done in the section\n",
    "\n",
    "### Below a .30\n",
    "- Sections are missing/incomplete"
   ]
  }
 ],
 "metadata": {
  "kernelspec": {
   "display_name": "Python 3.8.10 64-bit",
   "language": "python",
   "name": "python3"
  },
  "language_info": {
   "codemirror_mode": {
    "name": "ipython",
    "version": 3
   },
   "file_extension": ".py",
   "mimetype": "text/x-python",
   "name": "python",
   "nbconvert_exporter": "python",
   "pygments_lexer": "ipython3",
   "version": "3.8.10"
  },
  "orig_nbformat": 4,
  "vscode": {
   "interpreter": {
    "hash": "916dbcbb3f70747c44a77c7bcd40155683ae19c65e1c03b4aa3499c5328201f1"
   }
  }
 },
 "nbformat": 4,
 "nbformat_minor": 2
}
