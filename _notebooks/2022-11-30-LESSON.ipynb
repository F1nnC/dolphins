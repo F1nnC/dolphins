{
 "cells": [
  {
   "cell_type": "markdown",
   "metadata": {},
   "source": [
    "# LESSON PLAN\n",
    "##### Subtitle here\n",
    "\n",
    "- title: LESSON PLAN\n",
    "- toc: true\n",
    "- categories: [tri2lesson]\n",
    "- permalink: /lesson35\n",
    "- tags: [tri2lesson]"
   ]
  },
  {
   "cell_type": "markdown",
   "metadata": {},
   "source": [
    "# Lesson 3.5 Finn/Jake"
   ]
  },
  {
   "cell_type": "markdown",
   "metadata": {},
   "source": [
    "## What is a Boolean\n",
    "- The defention of a Boolean is a denoting a system of algebraic notation used to represent logical propositions, especially in computing and electronics.\n",
    "- A boolean expersions are either true or false\n",
    "- What do we use to represent them (Hint think of how domain/range of graph is answered)\n",
    "\n",
    "## Lets go over some examples\n",
    "# Type Down Below Theese two example\n",
    "- You have to be the age of 16 or older to drive\n",
    "- Each rollercoaster cart holds 4 for people per cart\n"
   ]
  },
  {
   "cell_type": "code",
   "execution_count": null,
   "metadata": {},
   "outputs": [],
   "source": [
    "# The code for ex:1\n",
    "\n",
    "\n",
    "# The code for ex:2\n",
    "\n",
    "\n",
    "# Print the results"
   ]
  },
  {
   "cell_type": "markdown",
   "metadata": {},
   "source": [
    "# Logical Operators\n",
    "## NOT\n",
    "- NOT, it displays the opposite of whatever the data is. Mainly used for true/false, and does not effect the variable.\n"
   ]
  },
  {
   "cell_type": "code",
   "execution_count": 1,
   "metadata": {},
   "outputs": [
    {
     "name": "stdout",
     "output_type": "stream",
     "text": [
      "True\n"
     ]
    }
   ],
   "source": [
    "isRaining = False\n",
    "result = not(isRaining)\n",
    "print(result)"
   ]
  },
  {
   "cell_type": "markdown",
   "metadata": {},
   "source": [
    "## AND\n",
    "- AND, used to evaulte two conditions together and determine if both condintions are met"
   ]
  },
  {
   "cell_type": "code",
   "execution_count": 2,
   "metadata": {},
   "outputs": [
    {
     "name": "stdout",
     "output_type": "stream",
     "text": [
      "You passed the quiz\n"
     ]
    }
   ],
   "source": [
    "grade = 95\n",
    "if grade > 70 and grade <= 100:\n",
    "    print(\"You passed the quiz\")"
   ]
  },
  {
   "cell_type": "markdown",
   "metadata": {},
   "source": [
    "## OR\n",
    "- OR, when using or the function only looks to see if one of the conditions is met then will"
   ]
  },
  {
   "cell_type": "code",
   "execution_count": null,
   "metadata": {},
   "outputs": [],
   "source": [
    "lives = 1\n",
    "score = 21\n",
    "if lives >= 0 or score > 20:\n",
    "    print(\"end game\")"
   ]
  },
  {
   "cell_type": "markdown",
   "metadata": {},
   "source": [
    "# Hacks\n",
    "- Write a logical experision for this secarino, You win the game if you have at least 20 points and 3 live left or if you have 100 points and more than 0 lives left.\n",
    "- Write a logical experision for example 1 NOT using >= or <="
   ]
  }
 ],
 "metadata": {
  "kernelspec": {
   "display_name": "Python 3.9.12 ('base')",
   "language": "python",
   "name": "python3"
  },
  "language_info": {
   "codemirror_mode": {
    "name": "ipython",
    "version": 3
   },
   "file_extension": ".py",
   "mimetype": "text/x-python",
   "name": "python",
   "nbconvert_exporter": "python",
   "pygments_lexer": "ipython3",
   "version": "3.9.12"
  },
  "orig_nbformat": 4,
  "vscode": {
   "interpreter": {
    "hash": "c674d37576c6be53e55a91dd88fae21456458e9a04c854efbf5b2af480977a00"
   }
  }
 },
 "nbformat": 4,
 "nbformat_minor": 2
}
